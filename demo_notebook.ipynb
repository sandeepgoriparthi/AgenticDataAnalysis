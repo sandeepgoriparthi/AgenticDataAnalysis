{
  "cells": [
    {
      "cell_type": "markdown",
      "metadata": {},
      "source": [
        "# \ud83e\udd16 Agentic Data Analysis - Demo Notebook\n",
        "\n",
        "This notebook demonstrates how to use the Agentic Data Analysis system.\n",
        "\n",
        "## Setup\n",
        "\n",
        "First, make sure you have the required packages installed and your API key configured."
      ]
    },
    {
      "cell_type": "code",
      "execution_count": null,
      "metadata": {},
      "source": [
        "# Import required libraries\n",
        "import pandas as pd\n",
        "import numpy as np\n",
        "from agent_nodes import DataAnalysisAgent\n",
        "from langchain_core.messages import HumanMessage\n",
        "\n",
        "# Set up your API key\n",
        "OPENAI_API_KEY = \"your-api-key-here\"  # Replace with your actual key\n",
        "\n",
        "# Initialize the agent\n",
        "agent = DataAnalysisAgent(OPENAI_API_KEY)\n",
        "workflow = agent.create_workflow()"
      ]
    },
    {
      "cell_type": "code",
      "execution_count": null,
      "metadata": {},
      "source": [
        "# Load sample data\n",
        "df = pd.read_csv('sample_data.csv')\n",
        "print(f\"Loaded dataset: {df.shape}\")\n",
        "df.head()"
      ]
    },
    {
      "cell_type": "code",
      "execution_count": null,
      "metadata": {},
      "source": [
        "# Example 1: Basic data analysis\n",
        "def ask_agent(question, dataframe):\n",
        "    \"\"\"Helper function to interact with the agent\"\"\"\n",
        "    config = {\"configurable\": {\"thread_id\": \"demo\"}}\n",
        "    state = {\n",
        "        \"messages\": [HumanMessage(content=question)],\n",
        "        \"dataframe_json\": dataframe.to_json()\n",
        "    }\n",
        "    \n",
        "    result = workflow.invoke(state, config)\n",
        "    return result[\"messages\"][-1].content\n",
        "\n",
        "# Ask for data structure analysis\n",
        "response = ask_agent(\"Analyze the structure of this dataset\", df)\n",
        "print(response)"
      ]
    }
  ],
  "metadata": {
    "kernelspec": {
      "display_name": "Python 3",
      "language": "python",
      "name": "python3"
    }
  },
  "nbformat": 4,
  "nbformat_minor": 2
}